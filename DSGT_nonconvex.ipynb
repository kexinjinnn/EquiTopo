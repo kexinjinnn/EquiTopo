{
 "cells": [
  {
   "cell_type": "markdown",
   "metadata": {},
   "source": [
    "Date: May 2022\n",
    "\n",
    "This code is to apply OD/OU-EquiDyn graphs to decentralized SGT for solving logistic regression with non-convex regularizations. The one-peer exponential graph is included for comparisons."
   ]
  },
  {
   "cell_type": "code",
   "execution_count": 1,
   "metadata": {},
   "outputs": [],
   "source": [
    "import numpy as np\n",
    "import matplotlib.pyplot as plt\n",
    "\n",
    "from topology_util import *\n",
    "from EquiTopo import *"
   ]
  },
  {
   "cell_type": "markdown",
   "metadata": {},
   "source": [
    "### Problem"
   ]
  },
  {
   "cell_type": "markdown",
   "metadata": {},
   "source": [
    "Assume the network size is $n$. In this code, we consider the decentralized logsitic regression problem\n",
    "\n",
    "$$\\min_w J(x) = \\frac{1}{n}\\sum_{i=1}^n J_i(x) + r(x),$$ \n",
    "where $J_i(x) = \\mathbb{E}\\ln(1 + \\exp(-\\gamma_i h_i^T x))$, and $r(x) = \\sum_{j=1}^d \\frac{R x_j^2}{1 + x_j^2}$ is a non-convex regularization term. At each agent/node, we have \n",
    "\n",
    "$$J_i(x) = \\frac{1}{L}\\sum_\\ell \\ln(1 + \\exp(-\\gamma_{i,\\ell} h_{i,\\ell}^T x)).$$"
   ]
  },
  {
   "cell_type": "code",
   "execution_count": 2,
   "metadata": {},
   "outputs": [],
   "source": [
    "def generate_data_lr(n, N_data, N_feature, W0):\n",
    "    \n",
    "    N, M = N_data, N_feature\n",
    "    \n",
    "    Nk = N//n   # Nk: the number of samples kept in each agent\n",
    "    \n",
    "    X = np.zeros((N, M))\n",
    "    y = np.zeros((N, 1))    \n",
    "    \n",
    "    for k in range(n):\n",
    "        \n",
    "        Xk = np.random.randn(Nk, M)\n",
    "        wk = W0[k,:].reshape(M, 1)\n",
    "        yk = np.random.rand(Nk, 1) < 1 / (1 + np.exp(-Xk.dot(wk)))\n",
    "        yk = yk.astype(int)\n",
    "        \n",
    "        X[k*Nk:(k+1)*Nk, :] = Xk\n",
    "        y[k*Nk:(k+1)*Nk] = yk\n",
    "        \n",
    "    y = 2*y - 1\n",
    "    \n",
    "    return X, y"
   ]
  },
  {
   "cell_type": "code",
   "execution_count": 9,
   "metadata": {},
   "outputs": [],
   "source": [
    "# data generating utility\n",
    "def data_gen(N, n, d, data_hetero=0.2):\n",
    "    np.random.seed(100)\n",
    "\n",
    "    W0 = np.zeros((n, d))\n",
    "    ws_reference = np.random.randn(1, d)\n",
    "    for k in range(n):\n",
    "        w_0k = np.random.randn(1, d) \n",
    "        w_0k = w_0k / np.linalg.norm(w_0k)\n",
    "        W0[k, :] = w_0k\n",
    "        W0[k, :] = ws_reference + data_hetero * np.random.randn(1, d)\n",
    "\n",
    "    X, y = generate_data_lr(n, N_data = N, N_feature = d, W0 = W0)\n",
    "    return X, y"
   ]
  },
  {
   "cell_type": "markdown",
   "metadata": {},
   "source": [
    "#### Gradient descent"
   ]
  },
  {
   "cell_type": "markdown",
   "metadata": {},
   "source": [
    "To get $x^\\star$, we employ classic gradient descent to solve the logsic regression problem. The gradient of $r(w)$ is\n",
    "$$\\nabla r(x) = \\sum_{j=1}^d \\frac{2Rx_j}{(1+x_j^2)^2}\\ .$$\n",
    "The gradient descent method is: \n",
    "$$x_t = x_{t-1} - \\mu \\nabla J(x_{t-1}) = x_{t-1} - \\mu \\big(\\nabla r(x) - \\frac{1}{nL}\\sum_k \\alpha_k \\gamma_k h_k\\big),$$ \n",
    "where $\\alpha_k = \\frac{\\exp(-\\gamma_k h_k^T x_{t-1})}{1 + \\exp(-\\gamma_k h_k^T x_{t-1})}$."
   ]
  },
  {
   "cell_type": "code",
   "execution_count": 4,
   "metadata": {},
   "outputs": [],
   "source": [
    "def lr_full_grad(X, y, w, R):\n",
    "    \n",
    "    _, M = X.shape\n",
    "    \n",
    "    prob = np.exp(- y * X.dot(w))\n",
    "    alpha = prob / (1 + prob)\n",
    "    \n",
    "    r_grad = 2*R*np.sum(w/((1+w*w)*(1+w*w)))\n",
    "    \n",
    "    grad = r_grad - np.mean(alpha*y*X, axis = 0).reshape(M, 1)\n",
    "    \n",
    "    return grad"
   ]
  },
  {
   "cell_type": "code",
   "execution_count": 5,
   "metadata": {},
   "outputs": [],
   "source": [
    "def lr_full_grad_dist(X, y, W, R):\n",
    "    \n",
    "    N, M = X.shape\n",
    "    K = W.shape[0]\n",
    "    N_agent = N//K    \n",
    "    \n",
    "    G = np.zeros((K, M))\n",
    "    \n",
    "    for k in range(K):\n",
    "        \n",
    "        wk = W[k,:].reshape(M, 1)        \n",
    "        Xk = X[k*N_agent:(k+1)*N_agent, :]\n",
    "        yk = y[k*N_agent:(k+1)*N_agent].reshape(N_agent, 1)\n",
    "        \n",
    "        prob = np.exp(- yk * Xk.dot(wk))\n",
    "        alpha = prob / (1 + prob)\n",
    "        \n",
    "        r_grad = 2*R*np.sum(wk/((1+wk*wk)*(1+wk*wk)))\n",
    "\n",
    "        grad = r_grad - np.mean(alpha*yk*Xk, axis = 0).reshape(M, 1)\n",
    "        G[k,:] = grad.T\n",
    "    \n",
    "    return G"
   ]
  },
  {
   "cell_type": "markdown",
   "metadata": {},
   "source": [
    "### Gradient tracking"
   ]
  },
  {
   "cell_type": "code",
   "execution_count": 20,
   "metadata": {},
   "outputs": [],
   "source": [
    "# Gradienet Tracking training utility\n",
    "def train_dynamic_gt(n, d, R, X, y, noise_mag, maxite, mu_init, seed=0, method=None, As=None, eta=1):\n",
    "    W = np.zeros((n, d))\n",
    "    Y = np.zeros((n, d))\n",
    "    Gp = np.zeros((n, d))\n",
    "\n",
    "    GT_grad_record = np.zeros((maxite, 1))\n",
    "    \n",
    "    mu = mu_init\n",
    "    rng = np.random.default_rng(seed)\n",
    "    \n",
    "    for ite in range(maxite):\n",
    "        if method == 'ExpGraph':\n",
    "            A = As[int(ite % len(As))]\n",
    "        elif method == 'ODEquiDynComplete':\n",
    "            A = ODEquiDynComplete(n, eta, rng)\n",
    "        elif method == 'OUEquiDynComplete':\n",
    "            A = OUEquiDynComplete(n, eta, rng)\n",
    "        else:\n",
    "            raise Exception(\"Need to specify the dynamic method!\")\n",
    "        W = A.dot(W - mu*Y)\n",
    "        G = lr_full_grad_dist(X, y, W, R) + noise_mag * np.random.randn(n, d)\n",
    "        Y = A @ Y + G - Gp\n",
    "        Gp = G.copy() \n",
    "\n",
    "        # record loss\n",
    "        w_ave = np.mean(W, axis=0).reshape(d, 1)\n",
    "        g = lr_full_grad(X, y, w_ave, R)\n",
    "        GT_grad_record[ite] = np.linalg.norm(g,2)\n",
    "    \n",
    "    return GT_grad_record"
   ]
  },
  {
   "cell_type": "markdown",
   "metadata": {},
   "source": [
    "#### Parameters"
   ]
  },
  {
   "cell_type": "code",
   "execution_count": 28,
   "metadata": {},
   "outputs": [],
   "source": [
    "n, d = 300, 10\n",
    "N = n * 1000\n",
    "R = 0.001\n",
    "\n",
    "data_hetero = 0.2\n",
    "noise_mag = 1e-6\n",
    "\n",
    "maxite = 300\n",
    "# initial learning rate\n",
    "mu_init = 3\n",
    "exp_repeat = 10"
   ]
  },
  {
   "cell_type": "markdown",
   "metadata": {},
   "source": [
    "#### Generating data"
   ]
  },
  {
   "cell_type": "code",
   "execution_count": 29,
   "metadata": {},
   "outputs": [],
   "source": [
    "X, y = data_gen(N, n, d, data_hetero=data_hetero)"
   ]
  },
  {
   "cell_type": "markdown",
   "metadata": {},
   "source": [
    "#### Simulation starts"
   ]
  },
  {
   "cell_type": "code",
   "execution_count": null,
   "metadata": {},
   "outputs": [],
   "source": [
    "\n",
    "exp = np.zeros((maxite, 1))\n",
    "di = np.zeros((maxite, 1))\n",
    "undi = np.zeros((maxite, 1))\n",
    "for i in range(exp_repeat):\n",
    "    print(\"training start!\")\n",
    "    As1 = OnePeer_ExponentialGraph(n)\n",
    "    a = train_dynamic_gt(n, d, R, X, y, noise_mag, maxite, 1.6, seed=int(i*12), method='ExpGraph', As=As1)\n",
    "    b = train_dynamic_gt(n, d, R, X, y, noise_mag, maxite, mu_init, seed=int(i*12), method='OUEquiDynComplete', eta=0.5)\n",
    "    c = train_dynamic_gt(n, d, R, X, y, noise_mag, maxite, mu_init, seed=int(i*12), method='ODEquiDynComplete', eta=0.5)\n",
    "\n",
    "    exp += a\n",
    "    undi += b\n",
    "    di += c\n",
    "\n",
    "record_exp = exp/exp_repeat\n",
    "record_undi = undi/exp_repeat\n",
    "record_di = di/exp_repeat\n"
   ]
  },
  {
   "cell_type": "code",
   "execution_count": 31,
   "metadata": {},
   "outputs": [
    {
     "data": {
      "image/png": "[encoded data removed]",
      "text/plain": [
       "<Figure size 360x288 with 1 Axes>"
      ]
     },
     "metadata": {
      "needs_background": "light"
     },
     "output_type": "display_data"
    }
   ],
   "source": [
    "# plot the result\n",
    "plt.rcParams['figure.figsize'] = 5, 4\n",
    "\n",
    "plt.figure()\n",
    "xlen = maxite\n",
    "\n",
    "plt.semilogy(0, record_exp[0], color='green', marker='d', markersize = 7)\n",
    "plt.semilogy(0, record_undi[0], color='red', marker='^', markersize = 7)\n",
    "plt.semilogy(0, record_di[0], color='blue', marker='o', markersize = 7)\n",
    "\n",
    "idx_set = np.arange(0, xlen, xlen//10)\n",
    "plt.semilogy(idx_set, record_exp[idx_set], color='green', marker='d', markersize = 7, linestyle = 'None')\n",
    "plt.semilogy(idx_set, record_undi[idx_set], color='red', marker='^', markersize = 7, linestyle = 'None')\n",
    "plt.semilogy(idx_set, record_di[idx_set], color='blue', marker='o', markersize = 7, linestyle = 'None')\n",
    "\n",
    "plt.semilogy(np.arange(xlen), record_exp, linewidth=1.0, color='green')\n",
    "plt.semilogy(np.arange(xlen), record_undi, linewidth=1.0, color='red')\n",
    "plt.semilogy(np.arange(xlen), record_di, linewidth=1.0, color='blue')\n",
    "\n",
    "plt.legend(['O.-P. Exp.', 'OU-EquiDyn', 'OD-EquiDyn'], fontsize=12)\n",
    "plt.xlabel('Iteration', fontsize = 12)\n",
    "plt.ylabel('Gradient Norm', fontsize = 12)\n",
    "plt.grid(True)\n",
    "\n",
    "plt.xticks(fontsize=10)\n",
    "plt.yticks(fontsize=10)\n",
    "plt.show()"
   ]
  }
 ],
 "metadata": {
  "kernelspec": {
   "display_name": "Python 3",
   "language": "python",
   "name": "python3"
  },
  "language_info": {
   "codemirror_mode": {
    "name": "ipython",
    "version": 3
   },
   "file_extension": ".py",
   "mimetype": "text/x-python",
   "name": "python",
   "nbconvert_exporter": "python",
   "pygments_lexer": "ipython3",
   "version": "3.9.12"
  }
 },
 "nbformat": 4,
 "nbformat_minor": 1
}
